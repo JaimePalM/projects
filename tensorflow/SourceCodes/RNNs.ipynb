{
 "cells": [
  {
   "cell_type": "code",
   "execution_count": 1,
   "id": "d92676d4",
   "metadata": {},
   "outputs": [
    {
     "name": "stdout",
     "output_type": "stream",
     "text": [
      "Downloading data from https://storage.googleapis.com/tensorflow/tf-keras-datasets/imdb.npz\n",
      "17464789/17464789 [==============================] - 272s 16us/step\n",
      "Model: \"sequential\"\n",
      "_________________________________________________________________\n",
      " Layer (type)                Output Shape              Param #   \n",
      "=================================================================\n",
      " embedding (Embedding)       (None, None, 32)          320000    \n",
      "                                                                 \n",
      " simple_rnn (SimpleRNN)      (None, 32)                2080      \n",
      "                                                                 \n",
      " dense (Dense)               (None, 1)                 33        \n",
      "                                                                 \n",
      "=================================================================\n",
      "Total params: 322,113\n",
      "Trainable params: 322,113\n",
      "Non-trainable params: 0\n",
      "_________________________________________________________________\n"
     ]
    }
   ],
   "source": [
    "from tensorflow.keras.datasets import imdb\n",
    "from tensorflow.keras.preprocessing import sequence\n",
    "from tensorflow.keras import layers, models\n",
    "\n",
    "# Load and preprocess the data\n",
    "max_features = 10000\n",
    "maxlen = 500\n",
    "(x_train, y_train), (x_test, y_test) = imdb.load_data(num_words=max_features)\n",
    "x_train = sequence.pad_sequences(x_train, maxlen=maxlen)\n",
    "x_test = sequence.pad_sequences(x_test, maxlen=maxlen)\n",
    "\n",
    "# Build the model\n",
    "model = models.Sequential()\n",
    "model.add(layers.Embedding(max_features, 32))\n",
    "model.add(layers.SimpleRNN(32))\n",
    "model.add(layers.Dense(1, activation='sigmoid'))\n",
    "model.summary()\n"
   ]
  },
  {
   "cell_type": "code",
   "execution_count": 2,
   "id": "3711c685",
   "metadata": {},
   "outputs": [
    {
     "name": "stdout",
     "output_type": "stream",
     "text": [
      "Epoch 1/10\n",
      "157/157 [==============================] - 56s 316ms/step - loss: 0.5442 - accuracy: 0.7205 - val_loss: 0.4139 - val_accuracy: 0.8192\n",
      "Epoch 2/10\n",
      "157/157 [==============================] - 51s 323ms/step - loss: 0.3600 - accuracy: 0.8508 - val_loss: 0.3527 - val_accuracy: 0.8520\n",
      "Epoch 3/10\n",
      "157/157 [==============================] - 51s 326ms/step - loss: 0.2873 - accuracy: 0.8881 - val_loss: 0.4722 - val_accuracy: 0.8310\n",
      "Epoch 4/10\n",
      "157/157 [==============================] - 51s 328ms/step - loss: 0.2468 - accuracy: 0.9068 - val_loss: 0.3494 - val_accuracy: 0.8536\n",
      "Epoch 5/10\n",
      "157/157 [==============================] - 50s 321ms/step - loss: 0.2065 - accuracy: 0.9223 - val_loss: 0.4914 - val_accuracy: 0.7752\n",
      "Epoch 6/10\n",
      "157/157 [==============================] - 51s 324ms/step - loss: 0.1704 - accuracy: 0.9388 - val_loss: 0.3711 - val_accuracy: 0.8558\n",
      "Epoch 7/10\n",
      "157/157 [==============================] - 52s 330ms/step - loss: 0.1372 - accuracy: 0.9510 - val_loss: 0.4589 - val_accuracy: 0.8536\n",
      "Epoch 8/10\n",
      "157/157 [==============================] - 52s 329ms/step - loss: 0.1089 - accuracy: 0.9628 - val_loss: 0.4388 - val_accuracy: 0.8524\n",
      "Epoch 9/10\n",
      "157/157 [==============================] - 51s 327ms/step - loss: 0.0764 - accuracy: 0.9749 - val_loss: 0.4693 - val_accuracy: 0.8404\n",
      "Epoch 10/10\n",
      "157/157 [==============================] - 51s 329ms/step - loss: 0.0547 - accuracy: 0.9834 - val_loss: 0.5308 - val_accuracy: 0.8530\n"
     ]
    },
    {
     "data": {
      "text/plain": [
       "<keras.callbacks.History at 0x182691b3e20>"
      ]
     },
     "execution_count": 2,
     "metadata": {},
     "output_type": "execute_result"
    }
   ],
   "source": [
    "#Compile and train the model\n",
    "model.compile(optimizer='rmsprop', loss='binary_crossentropy', metrics=['accuracy'])\n",
    "model.fit(x_train, y_train, epochs=10, batch_size=128, validation_split=0.2)\n"
   ]
  },
  {
   "cell_type": "code",
   "execution_count": 3,
   "id": "f8181478",
   "metadata": {},
   "outputs": [
    {
     "name": "stdout",
     "output_type": "stream",
     "text": [
      "782/782 [==============================] - 43s 55ms/step - loss: 0.5424 - accuracy: 0.8500\n",
      "Test accuracy: 0.8500400185585022\n"
     ]
    }
   ],
   "source": [
    "# Evaluate the model\n",
    "test_loss, test_acc = model.evaluate(x_test, y_test)\n",
    "print('Test accuracy:', test_acc)\n",
    "\n"
   ]
  },
  {
   "cell_type": "code",
   "execution_count": 4,
   "id": "0d8c1a1f",
   "metadata": {},
   "outputs": [
    {
     "name": "stdout",
     "output_type": "stream",
     "text": [
      "Model: \"sequential_1\"\n",
      "_________________________________________________________________\n",
      " Layer (type)                Output Shape              Param #   \n",
      "=================================================================\n",
      " embedding_1 (Embedding)     (None, None, 32)          320000    \n",
      "                                                                 \n",
      " lstm (LSTM)                 (None, 32)                8320      \n",
      "                                                                 \n",
      " dense_1 (Dense)             (None, 1)                 33        \n",
      "                                                                 \n",
      "=================================================================\n",
      "Total params: 328,353\n",
      "Trainable params: 328,353\n",
      "Non-trainable params: 0\n",
      "_________________________________________________________________\n",
      "Epoch 1/10\n",
      "157/157 [==============================] - 459s 3s/step - loss: 0.5726 - accuracy: 0.7034 - val_loss: 0.4146 - val_accuracy: 0.8350\n",
      "Epoch 2/10\n",
      "157/157 [==============================] - 329s 2s/step - loss: 0.3437 - accuracy: 0.8593 - val_loss: 0.5066 - val_accuracy: 0.8200\n",
      "Epoch 3/10\n",
      "157/157 [==============================] - 252s 2s/step - loss: 0.2754 - accuracy: 0.8920 - val_loss: 0.5115 - val_accuracy: 0.8258\n",
      "Epoch 4/10\n",
      "157/157 [==============================] - 215s 1s/step - loss: 0.2415 - accuracy: 0.9087 - val_loss: 0.4060 - val_accuracy: 0.8686\n",
      "Epoch 5/10\n",
      "157/157 [==============================] - 214s 1s/step - loss: 0.2108 - accuracy: 0.9218 - val_loss: 0.3713 - val_accuracy: 0.8748\n",
      "Epoch 6/10\n",
      "157/157 [==============================] - 216s 1s/step - loss: 0.1938 - accuracy: 0.9294 - val_loss: 0.3810 - val_accuracy: 0.8356\n",
      "Epoch 7/10\n",
      "157/157 [==============================] - 216s 1s/step - loss: 0.1805 - accuracy: 0.9352 - val_loss: 0.3492 - val_accuracy: 0.8770\n",
      "Epoch 8/10\n",
      "157/157 [==============================] - 217s 1s/step - loss: 0.1645 - accuracy: 0.9398 - val_loss: 0.4892 - val_accuracy: 0.8506\n",
      "Epoch 9/10\n",
      "157/157 [==============================] - 219s 1s/step - loss: 0.1526 - accuracy: 0.9462 - val_loss: 0.3239 - val_accuracy: 0.8720\n",
      "Epoch 10/10\n",
      "157/157 [==============================] - 218s 1s/step - loss: 0.1471 - accuracy: 0.9481 - val_loss: 0.4180 - val_accuracy: 0.8814\n",
      "782/782 [==============================] - 56s 71ms/step - loss: 0.4476 - accuracy: 0.8666\n",
      "Test accuracy: 0.8665599822998047\n"
     ]
    }
   ],
   "source": [
    "\n",
    "# Load and preprocess the data\n",
    "max_features = 10000\n",
    "maxlen = 500\n",
    "(x_train, y_train), (x_test, y_test) = imdb.load_data(num_words=max_features)\n",
    "x_train = sequence.pad_sequences(x_train, maxlen=maxlen)\n",
    "x_test = sequence.pad_sequences(x_test, maxlen=maxlen)\n",
    "\n",
    "# Build the model\n",
    "model = models.Sequential()\n",
    "model.add(layers.Embedding(max_features, 32))\n",
    "model.add(layers.LSTM(32, dropout=0.2, recurrent_dropout=0.2))\n",
    "model.add(layers.Dense(1, activation='sigmoid'))\n",
    "model.summary()\n",
    "\n",
    "# Comphe model\n",
    "model.compile(optimizer='rmsprop', loss='binary_crossentropy', metrics=['accuracy'])\n",
    "model.fit(x_train, y_train, epochs=10, batch_size=128, validation_split=0.2)\n",
    "\n",
    "# Evaluate the model\n",
    "test_loss, test_acc = model.evaluate(x_test, y_test)\n",
    "print('Test accuracy:', test_acc)"
   ]
  },
  {
   "cell_type": "code",
   "execution_count": null,
   "id": "a61c95e8",
   "metadata": {},
   "outputs": [],
   "source": []
  }
 ],
 "metadata": {
  "kernelspec": {
   "display_name": "Python 3 (ipykernel)",
   "language": "python",
   "name": "python3"
  },
  "language_info": {
   "codemirror_mode": {
    "name": "ipython",
    "version": 3
   },
   "file_extension": ".py",
   "mimetype": "text/x-python",
   "name": "python",
   "nbconvert_exporter": "python",
   "pygments_lexer": "ipython3",
   "version": "3.10.10"
  }
 },
 "nbformat": 4,
 "nbformat_minor": 5
}
